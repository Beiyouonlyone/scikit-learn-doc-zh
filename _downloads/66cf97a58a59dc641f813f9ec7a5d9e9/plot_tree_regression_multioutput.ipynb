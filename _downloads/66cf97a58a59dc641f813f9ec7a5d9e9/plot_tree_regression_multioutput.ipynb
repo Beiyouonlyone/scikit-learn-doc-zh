{
  "cells": [
    {
      "cell_type": "code",
      "execution_count": null,
      "metadata": {
        "collapsed": false
      },
      "outputs": [],
      "source": [
        "%matplotlib inline"
      ]
    },
    {
      "cell_type": "markdown",
      "metadata": {},
      "source": [
        "\n# \u591a\u8f93\u51fa\u51b3\u7b56\u6811\u56de\u5f52\n\n\n\u7528\u51b3\u7b56\u6811\u8bf4\u660e\u591a\u8f93\u51fa\u56de\u5f52\u7684\u4e00\u4e2a\u4f8b\u5b50\u3002\n\n`decision trees <tree>` \u7528\u4e8e\u540c\u65f6\u9884\u6d4b\u7ed9\u5b9a\u5355\u4e2a\u5e95\u5c42\u7279\u5f81\u7684\u5706\u7684 noisy x \u548c y \u89c2\u6d4b\u503c\u3002\u56e0\u6b64\uff0c\u5b83\u5b66\u4e60\u8fd1\u4f3c\u5706\u7684\u5c40\u90e8\u7ebf\u6027\u56de\u5f52\u3002\n\n\u6211\u4eec\u53ef\u4ee5\u770b\u5230\uff0c\u5982\u679c\u6811\u7684\u6700\u5927\u6df1\u5ea6 (\u7531 `max_depth` \u53c2\u6570\u63a7\u5236)\u8bbe\u7f6e\u5f97\u592a\u9ad8\uff0c\u5219\u51b3\u7b56\u6811\u4f1a\u5b66\u4e60\u8fc7\u591a\u7684\u8bad\u7ec3\u6570\u636e\u7684\u7ec6\u8282\uff0c\u5e76\u4e14\u4f1a\u4ece\u566a\u58f0\u4e2d\u5b66\u4e60\uff0c\u5373\u5b83\u4eec\u8fc7\u62df\u5408\u4e86\u3002\n\n"
      ]
    },
    {
      "cell_type": "code",
      "execution_count": null,
      "metadata": {
        "collapsed": false
      },
      "outputs": [],
      "source": [
        "# print(__doc__)\n\nimport numpy as np\nimport matplotlib.pyplot as plt\nfrom sklearn.tree import DecisionTreeRegressor\n\n# \u521b\u5efa\u4e00\u4e2a\u968f\u673a\u6570\u636e\u96c6\nrng = np.random.RandomState(1)\n# rand(m, n) \u4ee5\u53c2\u6570\u5217\u8868\u7684\u5f62\u5f0f\u6307\u5b9a\u53c2\u6570\uff0c\u800c\u975e\u5143\u7ec4,\u4e5f\u5c31\u662f\u7ed9\u5b9a\u4e86\u968f\u673a\u6570\u7684 shape, \u5185\u90e8\u6307\u5b9a\u7684\u533a\u95f4\u662f [0, 1); \u5176\u4e2d\u7684 m \u4ee3\u8868\u751f\u6210\u968f\u673a\u5e8f\u5217\u7684\u884c\u6570; n \u4ee3\u8868\u751f\u6210\u968f\u673a\u5e8f\u5217\u7684\u5217\u6570\n# numpy.sort(a, axis=-1, kind='quicksort', order=None) \u5176\u4e2d a \u662f \u9700\u8981\u6392\u5e8f\u7684 array, axis=0 \u8868\u793a\u6309\u5217\u6392\u5e8f\nX = np.sort(200 * rng.rand(100, 1) - 100, axis=0)\n# numpy.ravel() \u4e0e numpy.flatten() \u6240\u5b9e\u73b0\u7684\u529f\u80fd\u5747\u4e3a: \u5c06\u591a\u7ef4\u6570\u7ec4\u964d\u7ef4\u5230\u4e00\u7ef4\u6570\u7ec4, \u4f46\u662f\u6709\u4e00\u4e9b\u533a\u522b. ravel() \u8fd4\u56de\u89c6\u56fe\uff0c\u4f1a\u5f71\u54cd\u539f\u59cb\u77e9\u9635; flatten() \u8fd4\u56de\u62f7\u8d1d\uff0c\u5bf9\u62f7\u8d1d\u4fee\u6539\u4e0d\u4f1a\u5f71\u54cd\u539f\u59cb\u77e9\u9635\u3002\n# \u5177\u4f53\u53c2\u89c1: http://blog.csdn.net/lanchunhui/article/details/50354978\n# np.pi \u5c31\u662f \u03c0 , np.sin() \u5bf9\u5e94 sin \u51fd\u6570; np.cos() \u5bf9\u5e94 cos \u51fd\u6570, \u9700\u8981\u4e86\u89e3\u7684\u77e5\u8bc6\u70b9: [sin(x)]^2 + [cos(x)]^2 = 1\uff0c\u8fd9\u5b9e\u9645\u4e0a\u662f\u4e00\u4e2a\u5706\u7684\u56fe\u5f62\ny = np.array([np.pi * np.sin(X).ravel(), np.pi * np.cos(X).ravel()]).T\n# y[::5, :] \u7684\u610f\u601d\u662f\u4ece\u7b2c\u4e00\u884c\u5f00\u59cb\uff0c\u6bcf 5 \u884c\u53d6\u5168\u90e8\u7684\u5217\uff0c\u4e5f\u5c31\u662f\u6bcf\u9694 4 \u884c\u53d6\u4e00\u884c\uff0c\u5982\u7b2c 1 \u884c\uff0c\u7b2c 6 \u884c\uff0c \u7b2c 11 \u884c...\u4ee5\u6b64\u7c7b\u63a8\uff0c100\u884c\u4f1a\u63d0\u53d6\u51fa\u6765 20 \u884c\ny[::5, :] += (0.5 - rng.rand(20, 2))\n\n# \u62df\u5408\u56de\u5f52\u6a21\u578b\uff0c\u8bbe\u7f6e\u4e09\u4e2a\u6700\u5927\u6df1\u5ea6\uff0c\u5206\u522b\u62df\u5408\nregr_1 = DecisionTreeRegressor(max_depth=2)\nregr_2 = DecisionTreeRegressor(max_depth=5)\nregr_3 = DecisionTreeRegressor(max_depth=8)\nregr_1.fit(X, y)\nregr_2.fit(X, y)\nregr_3.fit(X, y)\n\n# \u8fdb\u884c\u9884\u6d4b\n# arange() \u51fd\u6570 \u4e0e range() \u51fd\u6570\u4f5c\u7528\u662f\u4e00\u6837\u7684\uff0c\u53ea\u4e0d\u8fc7 arange() \u8fd4\u56de\u7684\u662f array, \u800c range() \u8fd4\u56de\u7684\u662f list, \u5176\u4e2d\u7684\u4e09\u4e2a\u53c2\u6570\uff0c\u5206\u522b\u4ee3\u8868\uff0c\u8d77\u59cb\u70b9\uff0c\u7ec8\u6b62\u70b9\uff0c\u8fd8\u6709\u6b65\u957f\u3002\n# np.newaxis \u7684\u4f5c\u7528\u662f\u4e3a numpy.ndarray(\u591a\u7ef4\u6570\u7ec4)\u589e\u52a0\u4e00\u4e2a\u8f74\uff0c\u4f8b\u5982\uff1ab = np.array([1, 2, 3, 4, 5, 6])\uff0cshape \u4e3a [6,];\u7136\u540e\u6211\u4eec\u4f7f\u7528 b[np.newaxis] \u751f\u6210\u7684\u662f\u65b0\u7684 b \u4e3a array([[1, 2, 3, 4, 5, 6]]) ,\u5bf9\u5e94\u7684 shape \u4e3a[1L, 6L]\nX_test = np.arange(-100.0, 100.0, 0.01)[:, np.newaxis]\ny_1 = regr_1.predict(X_test)\ny_2 = regr_2.predict(X_test)\ny_3 = regr_3.predict(X_test)\n\n# Plot the results\nplt.figure()\ns = 50\ns = 25\nplt.scatter(y[:, 0], y[:, 1], c=\"navy\", s=s,\n            edgecolor=\"black\", label=\"data\")\nplt.scatter(y_1[:, 0], y_1[:, 1], c=\"cornflowerblue\", s=s,\n            edgecolor=\"black\", label=\"max_depth=2\")\nplt.scatter(y_2[:, 0], y_2[:, 1], c=\"red\", s=s,\n            edgecolor=\"black\", label=\"max_depth=5\")\nplt.scatter(y_3[:, 0], y_3[:, 1], c=\"orange\", s=s,\n            edgecolor=\"black\", label=\"max_depth=8\")\nplt.xlim([-6, 6])\nplt.ylim([-6, 6])\nplt.xlabel(\"target 1\")\nplt.ylabel(\"target 2\")\nplt.title(\"Multi-output Decision Tree Regression\")\nplt.legend(loc=\"best\")\nplt.show()"
      ]
    }
  ],
  "metadata": {
    "kernelspec": {
      "display_name": "Python 3",
      "language": "python",
      "name": "python3"
    },
    "language_info": {
      "codemirror_mode": {
        "name": "ipython",
        "version": 3
      },
      "file_extension": ".py",
      "mimetype": "text/x-python",
      "name": "python",
      "nbconvert_exporter": "python",
      "pygments_lexer": "ipython3",
      "version": "3.6.3"
    }
  },
  "nbformat": 4,
  "nbformat_minor": 0
}