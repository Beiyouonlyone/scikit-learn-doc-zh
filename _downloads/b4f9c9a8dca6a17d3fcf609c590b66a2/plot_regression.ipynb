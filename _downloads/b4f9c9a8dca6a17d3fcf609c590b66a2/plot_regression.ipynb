{
  "cells": [
    {
      "cell_type": "code",
      "execution_count": null,
      "metadata": {
        "collapsed": false
      },
      "outputs": [],
      "source": [
        "%matplotlib inline"
      ]
    },
    {
      "cell_type": "markdown",
      "metadata": {},
      "source": [
        "\n# \u6700\u8fd1\u90bb\u56de\u5f52\n\n\n\u4f7f\u7528 K-\u8fd1\u90bb \u89e3\u51b3\u56de\u5f52\u95ee\u9898, \u5e76\u4f7f\u7528\u91cd\u5fc3\u548c\u56fa\u5b9a\u6743\u91cd\u6765\u5bf9\u76ee\u6807\u505a\u63d2\u503c\u6cd5\u3002\n\n\n"
      ]
    },
    {
      "cell_type": "code",
      "execution_count": null,
      "metadata": {
        "collapsed": false
      },
      "outputs": [],
      "source": [
        "print(__doc__)\n\n# Author: Alexandre Gramfort <alexandre.gramfort@inria.fr>\n#         Fabian Pedregosa <fabian.pedregosa@inria.fr>\n#\n# License: BSD 3 clause (C) INRIA\n\n\n# #############################################################################\n# \u751f\u6210\u6837\u672c\u6570\u636e\nimport numpy as np\nimport matplotlib.pyplot as plt\nfrom sklearn import neighbors\n\nnp.random.seed(0)\nX = np.sort(5 * np.random.rand(40, 1), axis=0)\nT = np.linspace(0, 5, 500)[:, np.newaxis]\ny = np.sin(X).ravel()\n\n# \u6dfb\u52a0\u566a\u58f0\u6570\u636e\ny[::5] += 1 * (0.5 - np.random.rand(8))\n\n# #############################################################################\n# \u62df\u5408\u56de\u5f52\u6a21\u578b\nn_neighbors = 5 # \u8fd1\u90bb\u6570\u91cf\n\nfor i, weights in enumerate(['uniform', 'distance']):\n    knn = neighbors.KNeighborsRegressor(n_neighbors, weights=weights)\n    y_ = knn.fit(X, y).predict(T)\n\n    plt.subplot(2, 1, i + 1)\n    plt.scatter(X, y, c='k', label='data')\n    plt.plot(T, y_, c='g', label='prediction')\n    plt.axis('tight')\n    plt.legend()\n    plt.title(\"KNeighborsRegressor (k = %i, weights = '%s')\" % (n_neighbors, weights))\n\nplt.show()"
      ]
    }
  ],
  "metadata": {
    "kernelspec": {
      "display_name": "Python 3",
      "language": "python",
      "name": "python3"
    },
    "language_info": {
      "codemirror_mode": {
        "name": "ipython",
        "version": 3
      },
      "file_extension": ".py",
      "mimetype": "text/x-python",
      "name": "python",
      "nbconvert_exporter": "python",
      "pygments_lexer": "ipython3",
      "version": "3.6.3"
    }
  },
  "nbformat": 4,
  "nbformat_minor": 0
}