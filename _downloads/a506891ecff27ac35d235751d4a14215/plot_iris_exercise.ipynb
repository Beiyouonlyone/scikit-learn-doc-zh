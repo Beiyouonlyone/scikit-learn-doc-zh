{
  "cells": [
    {
      "cell_type": "code",
      "execution_count": null,
      "metadata": {
        "collapsed": false
      },
      "outputs": [],
      "source": [
        "%matplotlib inline"
      ]
    },
    {
      "cell_type": "markdown",
      "metadata": {},
      "source": [
        "\n# SVM \u7ec3\u4e60\n\n\n\u4f7f\u7528\u4e0d\u540c\u7684 SVM kernels \u7684\u6559\u7a0b\u7ec3\u4e60\u3002\n\n\u8fd9\u4e2a\u6559\u7a0b\u5e94\u7528\u4e8e `supervised_learning_tut` \u7ae0\u8282\u7684 `stat_learn_tut_index` \u7684 `using_kernels_tut` \u8fd9\u4e00\u90e8\u5206\u3002\n\n"
      ]
    },
    {
      "cell_type": "code",
      "execution_count": null,
      "metadata": {
        "collapsed": false
      },
      "outputs": [],
      "source": [
        "print(__doc__)\n\nimport numpy as np\nimport matplotlib.pyplot as plt\nfrom sklearn import datasets, svm\n\n# \u52a0\u8f7d iris \u6570\u636e\u96c6\niris = datasets.load_iris()\nX = iris.data\ny = iris.target\n\nX = X[y != 0, :2]\ny = y[y != 0]\n\nn_sample = len(X)\n\nnp.random.seed(0)\n# np.random.permutation() \u548c np.random.shuffle() \u529f\u80fd\u7c7b\u4f3c\uff0c\u4e0d\u540c\u4e4b\u5904\u5728\u4e8e: 1\u3001\u5982\u679c\u4f20\u7ed9 permutation() \u4e00\u4e2a\u77e9\u9635\uff0c\u5b83\u4f1a\u8fd4\u56de\u4e00\u4e2a\u6d17\u724c\u540e\u7684\u77e9\u9635\u526f\u672c,\u800c shuffle() \u53ea\u662f\u5bf9\u4e00\u4e2a\u77e9\u9635\u8fdb\u884c\u6d17\u724c\uff0c\u65e0\u8fd4\u56de\u503c\u3002\u5982\u679c\u5411 permutation()\u4f20\u5165\u7684\u662f\u4e00\u4e2a\u6574\u6570\uff0c\u5b83\u4f1a\u8fd4\u56de\u4e00\u4e2a\u6d17\u724c\u540e\u7684arange\u3002\n# \u53c2\u8003\u5b98\u7f51\u94fe\u63a5: https://docs.scipy.org/doc/numpy/reference/generated/numpy.random.permutation.html\norder = np.random.permutation(n_sample)\n# \u8fd9\u884c\u4ee3\u7801\u7684\u610f\u601d\u662f X \u4e2d\u7684\u6570\u636e\u5c06\u6309\u7167\u751f\u6210\u7684\u6253\u4e71\u7684 order \u987a\u5e8f\uff0corder\u4e2d\u7684\u987a\u5e8f\u662f\u539f\u672c X \u4e2d\u7684\u6570\u636e\u7684\u4e0b\u6807\nX = X[order]\n# y \u540c\u6837\u6309\u7167\u4e0a\u9762\u7684 X \u7684\u5957\u8def\uff0c\u5e76\u4e14\u8f6c\u5316\u4e3a float \u7c7b\u578b\ny = y[order].astype(np.float)\n\nX_train = X[:int(.9 * n_sample)]\ny_train = y[:int(.9 * n_sample)]\nX_test = X[int(.9 * n_sample):]\ny_test = y[int(.9 * n_sample):]\n\n# \u62df\u5408\u6a21\u578b\uff0c\u6211\u4eec\u8fd9\u91cc\u9009\u7528 SVM \u7684\u4e09\u79cd\u6838\u51fd\u6570\u6765\u62df\u5408\uff0c\u5206\u522b\u4e3a linear\uff0c rbf\uff0c poly\nfor fig_num, kernel in enumerate(('linear', 'rbf', 'poly')):\n    clf = svm.SVC(kernel=kernel, gamma=10)\n    clf.fit(X_train, y_train)\n\n    plt.figure(fig_num)\n    plt.clf()\n    plt.scatter(X[:, 0], X[:, 1], c=y, zorder=10, cmap=plt.cm.Paired,\n                edgecolor='k', s=20)\n\n    # \u5708\u51fa test \u6570\u636e\n    plt.scatter(X_test[:, 0], X_test[:, 1], s=80, facecolors='none',\n                zorder=10, edgecolor='k')\n\n    plt.axis('tight')\n    x_min = X[:, 0].min()\n    x_max = X[:, 0].max()\n    y_min = X[:, 1].min()\n    y_max = X[:, 1].max()\n\n    XX, YY = np.mgrid[x_min:x_max:200j, y_min:y_max:200j]\n    Z = clf.decision_function(np.c_[XX.ravel(), YY.ravel()])\n\n    # \u5c06\u7ed3\u679c\u653e\u5165\u5f69\u8272\u56fe\n    Z = Z.reshape(XX.shape)\n    plt.pcolormesh(XX, YY, Z > 0, cmap=plt.cm.Paired)\n    plt.contour(XX, YY, Z, colors=['k', 'k', 'k'],\n                linestyles=['--', '-', '--'], levels=[-.5, 0, .5])\n\n    plt.title(kernel)\nplt.show()"
      ]
    }
  ],
  "metadata": {
    "kernelspec": {
      "display_name": "Python 3",
      "language": "python",
      "name": "python3"
    },
    "language_info": {
      "codemirror_mode": {
        "name": "ipython",
        "version": 3
      },
      "file_extension": ".py",
      "mimetype": "text/x-python",
      "name": "python",
      "nbconvert_exporter": "python",
      "pygments_lexer": "ipython3",
      "version": "3.6.3"
    }
  },
  "nbformat": 4,
  "nbformat_minor": 0
}