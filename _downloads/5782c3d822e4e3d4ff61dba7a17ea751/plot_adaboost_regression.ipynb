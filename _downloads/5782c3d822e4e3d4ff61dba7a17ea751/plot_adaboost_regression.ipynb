{
  "cells": [
    {
      "cell_type": "code",
      "execution_count": null,
      "metadata": {
        "collapsed": false
      },
      "outputs": [],
      "source": [
        "%matplotlib inline"
      ]
    },
    {
      "cell_type": "markdown",
      "metadata": {},
      "source": [
        "\n# \u4f7f\u7528 AdaBoost \u7684\u51b3\u7b56\u6811\u56de\u5f52\n\n\n\u5728\u5177\u6709\u5c11\u91cf\u9ad8\u65af\u566a\u58f0\u7684 1D \u6b63\u5f26\u6570\u636e\u96c6\u4e0a\u4f7f\u7528 AdaBoost.R2 [1]_ \u7b97\u6cd5\u6765\u63d0\u5347\u51b3\u7b56\u6811\u3002\n\u5c06 299 \u4e2a\u63d0\u5347\uff08300 \u4e2a\u51b3\u7b56\u6811\uff09\u4e0e\u5355\u4e2a\u51b3\u7b56\u6811\u56de\u5f52\u6bd4\u8f83\u3002\u968f\u7740 boosts \u7684\u6570\u91cf\u589e\u52a0\uff0c\u56de\u5f52\u5668\u53ef\u4ee5\u66f4\u591a\u7684\u7ec6\u8282\u3002\n\n.. [1] H. Drucker, \"Improving Regressors using Boosting Techniques\", 1997.\n\n\n"
      ]
    },
    {
      "cell_type": "code",
      "execution_count": null,
      "metadata": {
        "collapsed": false
      },
      "outputs": [],
      "source": [
        "print(__doc__)\n\n# Author: Noel Dawe <noel.dawe@gmail.com> Joy yx <chinachenyyx@gmail.com>\n#\n# License: BSD 3 clause\n\n# \u5bfc\u5165\u4e00\u4e9b\u5fc5\u8981\u7684\u6a21\u5757\nimport numpy as np\nimport matplotlib.pyplot as plt\nfrom sklearn.tree import DecisionTreeRegressor\nfrom sklearn.ensemble import AdaBoostRegressor\n\n# \u521b\u5efa\u6211\u4eec\u6240\u9700\u7684\u6570\u636e\u96c6\nrng = np.random.RandomState(1)\nX = np.linspace(0, 6, 100)[:, np.newaxis]\ny = np.sin(X).ravel() + np.sin(6 * X).ravel() + rng.normal(0, 0.1, X.shape[0])\n\n# \u62df\u5408\u56de\u5f52\u6a21\u578b\nregr_1 = DecisionTreeRegressor(max_depth=4)\n\nregr_2 = AdaBoostRegressor(DecisionTreeRegressor(max_depth=4),\n                          n_estimators=300, random_state=rng)\n\nregr_1.fit(X, y)\nregr_2.fit(X, y)\n\n# \u9884\u6d4b\u6570\u636e\ny_1 = regr_1.predict(X)\ny_2 = regr_2.predict(X)\n\n# \u7ed8\u5236\u51fa\u6211\u4eec\u62df\u5408\u548c\u9884\u6d4b\u4e4b\u540e\u7684\u7ed3\u679c\nplt.figure()\nplt.scatter(X, y, c=\"k\", label=\"training samples\")\nplt.plot(X, y_1, c=\"g\", label=\"n_estimators=1\", linewidth=2)\nplt.plot(X, y_2, c=\"r\", label=\"n_estimators=300\", linewidth=2)\nplt.xlabel(\"data\")\nplt.ylabel(\"target\")\nplt.title(\"Boosted Decision Tree Regression\")\nplt.legend()\nplt.show()"
      ]
    }
  ],
  "metadata": {
    "kernelspec": {
      "display_name": "Python 3",
      "language": "python",
      "name": "python3"
    },
    "language_info": {
      "codemirror_mode": {
        "name": "ipython",
        "version": 3
      },
      "file_extension": ".py",
      "mimetype": "text/x-python",
      "name": "python",
      "nbconvert_exporter": "python",
      "pygments_lexer": "ipython3",
      "version": "3.6.3"
    }
  },
  "nbformat": 4,
  "nbformat_minor": 0
}