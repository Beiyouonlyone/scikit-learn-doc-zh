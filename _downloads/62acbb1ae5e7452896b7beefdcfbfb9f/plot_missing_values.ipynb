{
  "cells": [
    {
      "cell_type": "code",
      "execution_count": null,
      "metadata": {
        "collapsed": false
      },
      "outputs": [],
      "source": [
        "%matplotlib inline"
      ]
    },
    {
      "cell_type": "markdown",
      "metadata": {},
      "source": [
        "\n# \u5728\u6784\u5efa\u4f30\u8ba1\u5668\u4e4b\u524d\u4f30\u7b97\u7f3a\u5931\u503c\n\n\n\u6b64\u793a\u4f8b\u663e\u793a\uff0c\u4e22\u5f03\u7f3a\u5c11\u7684\u503c\u53ef\u4ee5\u6bd4\u4e22\u5f03\u5305\u542b\u4efb\u4f55\u7f3a\u5931\u503c\u7684\u6837\u672c\u66f4\u597d\u7684\u7ed3\u679c\u3002\n\u4f30\u7b97\u5e76\u4e0d\u603b\u662f\u6539\u8fdb\u9884\u6d4b\uff0c\u56e0\u6b64\u8bf7\u901a\u8fc7\u4ea4\u53c9\u9a8c\u8bc1\u8fdb\u884c\u68c0\u67e5\u3002\n\u6709\u65f6\u5220\u9664\u884c\u6216\u4f7f\u7528\u6807\u8bb0\u503c\u66f4\u6709\u6548\u3002\n\n\u7f3a\u7701\u503c\u53ef\u4ee5\u7528\u5e73\u5747\u503c\uff0c\u4e2d\u503c\u6216\u6700\u5e38\u7528\u7684\u503c\u66ff\u6362\u4e3a ``\u7b56\u7565`` \u8d85\u53c2\u6570\u3002\n\u4e2d\u4f4d\u6570\u662f\u5177\u6709\u9ad8\u5e45\u5ea6\u53d8\u91cf\u7684\u6570\u636e\u7684\u66f4\u5f3a\u5927\u7684\u4f30\u8ba1\uff0c\u53ef\u4ee5\u4e3b\u5bfc\u7ed3\u679c\uff08\u4e5f\u79f0\u4e3a '\u957f\u5c3e'\uff09\u3002\n\n\u811a\u672c\u8f93\u51fa ::\n\n  Score with the entire dataset = 0.56\n  Score without the samples containing missing values = 0.48\n  Score after imputation of the missing values = 0.55\n\n\u5728\u8fd9\u79cd\u60c5\u51b5\u4e0b\uff0c\u4f30\u7b97\u6709\u52a9\u4e8e\u5206\u7c7b\u5668\u63a5\u8fd1\u539f\u59cb\u5206\u6570\u3002\n\n\n"
      ]
    },
    {
      "cell_type": "code",
      "execution_count": null,
      "metadata": {
        "collapsed": false
      },
      "outputs": [],
      "source": [
        "import numpy as np\n\nfrom sklearn.datasets import load_boston\nfrom sklearn.ensemble import RandomForestRegressor\nfrom sklearn.pipeline import Pipeline\nfrom sklearn.preprocessing import Imputer\nfrom sklearn.model_selection import cross_val_score\n\nrng = np.random.RandomState(0)\n\ndataset = load_boston()\nX_full, y_full = dataset.data, dataset.target\nn_samples = X_full.shape[0]\nn_features = X_full.shape[1]\n\n# \u4f30\u8ba1\u6574\u4e2a\u6570\u636e\u96c6\u4e0a\u7684\u5206\u6570\uff0c\u6ca1\u6709\u7f3a\u5c11\u503c\n'''\nRandomForestRegressor\nn_estimators : integer, optional (default=10)\n  \u68ee\u6797\u91cc\u7684\u6811\u6728\u6570\u91cf\u3002\nrandom_state : int, RandomState\u5b9e\u4f8b\u6216\u65e0\uff0c\u53ef\u9009 (default=None)\n  \u5982\u679cint\uff0crandom_state \u662f\u968f\u673a\u6570\u751f\u6210\u5668\u4f7f\u7528\u7684\u79cd\u5b50; \n  \u5982\u679c RandomState \u7684\u5b9e\u4f8b\uff0crandom_state \u662f\u968f\u673a\u6570\u751f\u6210\u5668; \n  \u5982\u679c\u6ca1\u6709\uff0c\u968f\u673a\u6570\u751f\u6210\u5668\u6240\u4f7f\u7528\u7684 RandomState \u5b9e\u4f8b np.random\u3002\n'''\nestimator = RandomForestRegressor(random_state=0, n_estimators=100)\nscore = cross_val_score(estimator, X_full, y_full).mean()\nprint(\"Score with the entire dataset = %.2f\" % score)\n\n# \u572875\uff05\u7684\u884c\u4e2d\u6dfb\u52a0\u7f3a\u5931\u503c\nmissing_rate = 0.75\nn_missing_samples = int(np.floor(n_samples * missing_rate))\nmissing_samples = np.hstack((np.zeros(n_samples - n_missing_samples,\n                                      dtype=np.bool),\n                             np.ones(n_missing_samples,\n                                     dtype=np.bool)))\nrng.shuffle(missing_samples)\nmissing_features = rng.randint(0, n_features, n_missing_samples)\n\n# \u4f30\u8ba1\u6ca1\u6709\u5305\u542b\u7f3a\u5931\u503c\u7684\u884c\u7684\u5206\u6570\nX_filtered = X_full[~missing_samples, :]\ny_filtered = y_full[~missing_samples]\nestimator = RandomForestRegressor(random_state=0, n_estimators=100)\nscore = cross_val_score(estimator, X_filtered, y_filtered).mean()\nprint(\"Score without the samples containing missing values = %.2f\" % score)\n\n# \u4f30\u8ba1\u7f3a\u5931\u503c\u4f30\u7b97\u540e\u7684\u5206\u6570\nX_missing = X_full.copy()\nX_missing[np.where(missing_samples)[0], missing_features] = 0\ny_missing = y_full.copy()\nestimator = Pipeline([(\"imputer\", Imputer(missing_values=0,\n                                          strategy=\"mean\",\n                                          axis=0)),\n                      (\"forest\", RandomForestRegressor(random_state=0,\n                                                       n_estimators=100))])\nscore = cross_val_score(estimator, X_missing, y_missing).mean()\nprint(\"Score after imputation of the missing values = %.2f\" % score)"
      ]
    }
  ],
  "metadata": {
    "kernelspec": {
      "display_name": "Python 3",
      "language": "python",
      "name": "python3"
    },
    "language_info": {
      "codemirror_mode": {
        "name": "ipython",
        "version": 3
      },
      "file_extension": ".py",
      "mimetype": "text/x-python",
      "name": "python",
      "nbconvert_exporter": "python",
      "pygments_lexer": "ipython3",
      "version": "3.6.3"
    }
  },
  "nbformat": 4,
  "nbformat_minor": 0
}