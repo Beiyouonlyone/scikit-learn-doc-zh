{
  "cells": [
    {
      "cell_type": "code",
      "execution_count": null,
      "metadata": {
        "collapsed": false
      },
      "outputs": [],
      "source": [
        "%matplotlib inline"
      ]
    },
    {
      "cell_type": "markdown",
      "metadata": {},
      "source": [
        "\n# \u5728\u9e22\u5c3e\u82b1\u5349\u6570\u636e\u96c6\u4e0a\u7ed8\u5236\u4e0d\u540c\u7684 SVM \u5206\u7c7b\u5668\n\n\n\u5728\u9e22\u5c3e\u82b1\u5349\u6570\u636e\u96c6\u7684 2D \u6295\u5f71\u4e0a\u7684\u4e0d\u540c\u7ebf\u6027 SVM \u5206\u7c7b\u5668\u7684\u6bd4\u8f83\u3002\u6211\u4eec\u53ea\u8003\u8651\u8fd9\u4e2a\u6570\u636e\u96c6\u7684\u524d 2 \u4e2a\u7279\u5f81: \n\n- \u843c\u7247\u957f\u5ea6\n- \u843c\u7247\u5bbd\u5ea6\n\n\u6b64\u793a\u4f8b\u663e\u793a\u5982\u4f55\u7ed8\u5236\u5177\u6709\u4e0d\u540c kernel \u7684\u56db\u4e2a SVM \u5206\u7c7b\u5668\u7684\u51b3\u7b56\u8868\u9762\u3002\n\n\u7ebf\u6027\u6a21\u578b ``LinearSVC()`` \u548c ``SVC(kernel='linear')`` \u4ea7\u751f\u7a0d\u5fae\u4e0d\u540c\u7684\u51b3\u7b56\u8fb9\u754c\u3002\u8fd9\u53ef\u80fd\u662f\u4ee5\u4e0b\u5dee\u5f02\u7684\u7ed3\u679c:\n\n- ``LinearSVC`` \u53ef\u4ee5\u6700\u5927\u9650\u5ea6\u5730\u51cf\u5c11 squared hinge loss \u800c ``SVC`` \u6700\u5927\u9650\u5ea6\u5730\u51cf\u5c11 regular hinge loss.\n\n- ``LinearSVC`` \u4f7f\u7528 One-vs-All (\u4e5f\u88ab\u79f0\u4f5c One-vs-Rest) multiclass reduction \uff0c\u800c ``SVC`` \u5219\u4f7f\u7528 One-vs-One multiclass reduction \u3002\n\n\u4e24\u4e2a\u7ebf\u6027\u6a21\u578b\u5177\u6709\u7ebf\u6027\u51b3\u7b56\u8fb9\u754c\uff08\u76f8\u4ea4\u8d85\u5e73\u9762\uff09\uff0c\u800c\u975e\u7ebf\u6027\u5185\u6838\u6a21\u578b\uff08\u591a\u9879\u5f0f\u6216 \u9ad8\u65af RBF\uff09\u5177\u6709\u66f4\u7075\u6d3b\u7684\u975e\u7ebf\u6027\u51b3\u7b56\u8fb9\u754c\uff0c\u5176\u5f62\u72b6\u53d6\u51b3\u4e8e\u5185\u6838\u7684\u79cd\u7c7b\u53ca\u5176\u53c2\u6570\u3002\n\n.. NOTE:: \u5728\u7ed8\u5236\u73a9\u5177 2D \u6570\u636e\u96c6\u5206\u7c7b\u5668\u7684\u51b3\u7b56\u51fd\u6570\u7684\u65f6\u5019\u53ef\u4ee5\u5e2e\u52a9\u60a8\u76f4\u89c2\u4e86\u89e3\u5176\u5404\u81ea\u7684\u8868\u73b0\u529b\uff0c\u8bf7\u6ce8\u610f\uff0c\u8fd9\u4e9b\u76f4\u89c9\u5e76\u4e0d\u603b\u662f\u63a8\u5e7f\u5230\u66f4\u52a0\u63a5\u8fd1\u4e8e\u73b0\u5b9e\u7684\u9ad8\u7ef4\u5ea6\u7684\u95ee\u9898\u3002\n\n\n"
      ]
    },
    {
      "cell_type": "code",
      "execution_count": null,
      "metadata": {
        "collapsed": false
      },
      "outputs": [],
      "source": [
        "print(__doc__)\n\n# \u52a0\u8f7d numpy, matplotlib, sklearn \u7b49\u6a21\u5757\nimport numpy as np\nimport matplotlib.pyplot as plt\nfrom sklearn import svm, datasets\n\n\ndef make_meshgrid(x, y, h=.02):\n    \"\"\"\u521b\u5efa\u4e00\u4e2a\u8981\u7ed8\u5236\u7684\u70b9\u7684\u7f51\u683c\n\n    \u53c2\u6570\n    ----------\n    x: \u57fa\u4e8e x \u8f74\u7684\u7f51\u683c\u6570\u636e\n    y: \u57fa\u4e8e y \u8f74\u7684\u7f51\u683c\u6570\u636e\n    h: meshgrid \u7684\u6b65\u957f\u53c2\u6570, \u662f\u53ef\u9009\u7684\n\n    \u8fd4\u56de\n    -------\n    xx, yy : ndarray\n    \"\"\"\n    x_min, x_max = x.min() - 1, x.max() + 1\n    y_min, y_max = y.min() - 1, y.max() + 1\n    # meshgrid() \u51fd\u6570\u7528\u4e24\u4e2a\u5750\u6807\u8f74\u4e0a\u7684\u70b9\u5728\u5e73\u9762\u4e0a\u753b\u683c\u3002\u5177\u4f53\u53c2\u9605\uff1ahttps://docs.scipy.org/doc/numpy/reference/generated/numpy.meshgrid.html\n    xx, yy = np.meshgrid(np.arange(x_min, x_max, h),\n                         np.arange(y_min, y_max, h))\n    return xx, yy\n\n\ndef plot_contours(ax, clf, xx, yy, **params):\n    \"\"\"\u7ed8\u5236\u5206\u7c7b\u5668\u7684\u51b3\u7b56\u8fb9\u754c.\n\n    \u53c2\u6570\n    ----------\n    ax: matplotlib \u8f74\u5bf9\u8c61\n    clf: \u4e00\u4e2a\u5206\u7c7b\u5668\n    xx: meshgrid ndarray\n    yy: meshgrid ndarray\n    params: params \u7684\u5b57\u5178\u4f20\u9012\u7ed9 contourf, \u53ef\u9009\n    \"\"\"\n    Z = clf.predict(np.c_[xx.ravel(), yy.ravel()])\n    Z = Z.reshape(xx.shape)\n    # contourf() \u51fd\u6570 \u5177\u4f53\u7528\u6cd5\u53c2\u89c1\uff1ahttp://www.labri.fr/perso/nrougier/teaching/matplotlib/   \u548c http://matplotlib.org/examples/pylab_examples/contourf_demo.html\n    out = ax.contourf(xx, yy, Z, **params)\n    return out\n\n\n# \u52a0\u8f7d\u4e00\u4e9b\u9700\u8981\u73a9\u7684\u6570\u636e\niris = datasets.load_iris()\n# \u53ea\u53d6\u524d\u4e24\u4e2a\u7279\u5f81\u6570\u636e\uff0c\u6211\u4eec\u53ef\u4ee5\u901a\u8fc7 2 \u7ef4\u6570\u636e\u96c6\u6765\u907f\u514d\u8fd9\u79cd\u60c5\u51b5\nX = iris.data[:, :2]\ny = iris.target\n\n# \u6211\u4eec\u521b\u5efa\u4e86\u4e00\u4e2a SVM \u7684\u5b9e\u4f8b\u5e76\u586b\u5145\u4e86\u6570\u636e\u3002\u6211\u4eec\u4e0d\u6269\u5c55\u6211\u4eec\u7684\u6570\u636e\uff0c\u56e0\u4e3a\u6211\u4eec\u60f3\u7ed8\u5236\u652f\u6301\u5411\u91cf\u3002\nC = 1.0  # SVM \u6b63\u5219\u5316\u53c2\u6570\nmodels = (svm.SVC(kernel='linear', C=C),\n          svm.LinearSVC(C=C),\n          svm.SVC(kernel='rbf', gamma=0.7, C=C),\n          svm.SVC(kernel='poly', degree=3, C=C))\nmodels = (clf.fit(X, y) for clf in models)\n\n# \u7ed8\u56fe\u533a\u57df\u7684\u6807\u9898\ntitles = ('SVC with linear kernel',\n          'LinearSVC (linear kernel)',\n          'SVC with RBF kernel',\n          'SVC with polynomial (degree 3) kernel')\n\n# \u8bbe\u7f6e 2x2 \u7684\u7f51\u683c\u8fdb\u884c\u7ed8\u5236.\nfig, sub = plt.subplots(2, 2)\nplt.subplots_adjust(wspace=0.4, hspace=0.4)\n\nX0, X1 = X[:, 0], X[:, 1]\nxx, yy = make_meshgrid(X0, X1)\n\nfor clf, title, ax in zip(models, titles, sub.flatten()):\n    plot_contours(ax, clf, xx, yy,\n                  cmap=plt.cm.coolwarm, alpha=0.8)\n    ax.scatter(X0, X1, c=y, cmap=plt.cm.coolwarm, s=20, edgecolors='k')\n    ax.set_xlim(xx.min(), xx.max())\n    ax.set_ylim(yy.min(), yy.max())\n    ax.set_xlabel('Sepal length')\n    ax.set_ylabel('Sepal width')\n    ax.set_xticks(())\n    ax.set_yticks(())\n    ax.set_title(title)\n\nplt.show()"
      ]
    }
  ],
  "metadata": {
    "kernelspec": {
      "display_name": "Python 3",
      "language": "python",
      "name": "python3"
    },
    "language_info": {
      "codemirror_mode": {
        "name": "ipython",
        "version": 3
      },
      "file_extension": ".py",
      "mimetype": "text/x-python",
      "name": "python",
      "nbconvert_exporter": "python",
      "pygments_lexer": "ipython3",
      "version": "3.6.3"
    }
  },
  "nbformat": 4,
  "nbformat_minor": 0
}