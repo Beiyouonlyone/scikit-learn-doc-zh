{
  "cells": [
    {
      "cell_type": "code",
      "execution_count": null,
      "metadata": {
        "collapsed": false
      },
      "outputs": [],
      "source": [
        "%matplotlib inline"
      ]
    },
    {
      "cell_type": "markdown",
      "metadata": {},
      "source": [
        "\n# \u6700\u8fd1\u90bb\u5206\u7c7b\n\n\n\u6700\u8fd1\u90bb\u5206\u7c7b\u7684\u4f7f\u7528\u65b9\u6cd5\u793a\u4f8b.\n\u5b83\u5c06\u7ed8\u5236\u51fa\u6bcf\u4e2a\u7c7b\u522b\u7684\u51b3\u7b56\u8fb9\u754c.\n\n"
      ]
    },
    {
      "cell_type": "code",
      "execution_count": null,
      "metadata": {
        "collapsed": false
      },
      "outputs": [],
      "source": [
        "print(__doc__)\n\nimport numpy as np\nimport matplotlib.pyplot as plt\nfrom matplotlib.colors import ListedColormap\nfrom sklearn import neighbors, datasets\n\nn_neighbors = 15 # \u6700\u8fd1\u90bb\u6570\u91cf\n\n# \u5bfc\u5165\u4e00\u4e9b\u7528\u6765\u73a9\u7684\u6570\u636e\niris = datasets.load_iris()\n\n# \u6211\u4eec\u53ea\u8981\u524d\u4e24\u4e2a\u7279\u5f81.\n# \u6211\u4eec\u53ef\u4ee5\u4f7f\u7528\u4e00\u4e2a\u4e8c\u7ef4\u7684\u6570\u636e\u96c6\u4ee5\u66f4\u65b9\u4fbf\u7684\u64cd\u4f5c\u5b83\nX = iris.data[:, :2] # \u8bad\u7ec3\u6570\u636e\ny = iris.target # \u76ee\u6807\u53d8\u91cf\n\nh = .02  #  mesh \u4e2d\u7684 step size\uff08\u6b65\u957f\uff09\n\n# Create color maps\ncmap_light = ListedColormap(['#FFAAAA', '#AAFFAA', '#AAAAFF'])\ncmap_bold = ListedColormap(['#FF0000', '#00FF00', '#0000FF'])\n\nfor weights in ['uniform', 'distance']:\n    # \u6211\u4eec\u521b\u5efa\u4e00\u4e2a\u8fd1\u90bb\u5206\u7c7b\u5668\u7684\u5b9e\u4f8b, \u5e76\u4e14\u62df\u5408\u6570\u636e.\n    clf = neighbors.KNeighborsClassifier(n_neighbors, weights=weights)\n    clf.fit(X, y) # \u62df\u5408\u6570\u636e\n\n    # \u7ed8\u5236\u51b3\u7b56\u8fb9\u754c.\n    # \u4e3a\u6b64\uff0c\u6211\u4eec\u4e3a mesh [x_min, x_max]x[y_min, y_max] \u4e2d\u7684\u6bcf\u4e2a\u70b9\u90fd\u5206\u914d\u4e86\u4e00\u4e2a\u989c\u8272.\n    x_min, x_max = X[:, 0].min() - 1, X[:, 0].max() + 1\n    y_min, y_max = X[:, 1].min() - 1, X[:, 1].max() + 1\n    xx, yy = np.meshgrid(np.arange(x_min, x_max, h),\n                         np.arange(y_min, y_max, h))\n    Z = clf.predict(np.c_[xx.ravel(), yy.ravel()]) # \u9884\u6d4b\u6570\u636e\n\n    # \u5c06\u7ed3\u679c\u653e\u5165\u5f69\u8272\u56fe\u4e2d\n    Z = Z.reshape(xx.shape)\n    plt.figure()\n    plt.pcolormesh(xx, yy, Z, cmap=cmap_light)\n\n    # \u7ed8\u5236\u8bad\u7ec3\u6570\u636e\n    plt.scatter(X[:, 0], X[:, 1], c=y, cmap=cmap_bold,\n                edgecolor='k', s=20)\n    plt.xlim(xx.min(), xx.max())\n    plt.ylim(yy.min(), yy.max())\n    plt.title(\"3-Class classification (k = %i, weights = '%s')\"\n              % (n_neighbors, weights))\n\nplt.show()"
      ]
    }
  ],
  "metadata": {
    "kernelspec": {
      "display_name": "Python 3",
      "language": "python",
      "name": "python3"
    },
    "language_info": {
      "codemirror_mode": {
        "name": "ipython",
        "version": 3
      },
      "file_extension": ".py",
      "mimetype": "text/x-python",
      "name": "python",
      "nbconvert_exporter": "python",
      "pygments_lexer": "ipython3",
      "version": "3.6.3"
    }
  },
  "nbformat": 4,
  "nbformat_minor": 0
}