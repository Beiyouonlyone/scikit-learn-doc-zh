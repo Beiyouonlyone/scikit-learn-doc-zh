{
  "cells": [
    {
      "cell_type": "code",
      "execution_count": null,
      "metadata": {
        "collapsed": false
      },
      "outputs": [],
      "source": [
        "%matplotlib inline"
      ]
    },
    {
      "cell_type": "markdown",
      "metadata": {},
      "source": [
        "\n===================================================================\n\u652f\u6301\u5411\u91cf\u56de\u5f52\uff08SVR\uff09\uff0c\u4f7f\u7528 linear and non-linear \u5185\u6838\n===================================================================\n\n\u4f7f\u7528 linear, polynomial \u548c RBF \u5185\u6838\u7684 1D \u56de\u5f52\u7684\u73a9\u5177\u793a\u4f8b\u3002\n\n\n"
      ]
    },
    {
      "cell_type": "code",
      "execution_count": null,
      "metadata": {
        "collapsed": false
      },
      "outputs": [],
      "source": [
        "print(__doc__)\n\nimport numpy as np\nfrom sklearn.svm import SVR\nimport matplotlib.pyplot as plt\n\n# #############################################################################\n# Generate sample data\nX = np.sort(5 * np.random.rand(40, 1), axis=0)\ny = np.sin(X).ravel()\n\n# #############################################################################\n# Add noise to targets\ny[::5] += 3 * (0.5 - np.random.rand(8))\n\n# #############################################################################\n# Fit regression model\n'''\nSVR\nkernel\uff1astring\uff0coptional\uff08default ='rbf'\uff09\n    \u6307\u5b9a\u7b97\u6cd5\u4e2d\u8981\u4f7f\u7528\u7684\u5185\u6838\u7c7b\u578b\u3002\u5b83\u5fc5\u987b\u662f \u2018linear\u2019, \u2018poly\u2019, \u2018rbf\u2019, \u2018sigmoid\u2019, \u2018precomputed\u2019 \u6216\u53ef\u8c03\u7528\u7684\u4e4b\u4e00\u3002\u5982\u679c\u6ca1\u6709\u7ed9\u51fa\uff0c\u5c06\u4f7f\u7528'rbf'\u3002\u5982\u679c\u7ed9\u51fa\u4e86\u4e00\u4e2a\u53ef\u8c03\u7528\u51fd\u6570\uff0c\u5b83\u5c06\u7528\u4e8e\u9884\u8ba1\u7b97\u5185\u6838\u77e9\u9635\u3002\nC\uff1afloat\uff0coptional\uff08default = 1.0\uff09\n    \u9519\u8bef\u9879\u7684\u60e9\u7f5a\u53c2\u6570C\u3002\ngamma\uff1afloat\uff0c\u53ef\u9009\uff08default ='auto'\uff09\n    'rbf'\uff0c'poly'\u548c'sigmoid'\u7684\u5185\u6838\u7cfb\u6570\u3002\u5982\u679cgamma\u662f'auto'\uff0c\u90a3\u4e48\u5c06\u4f7f\u75281 / n_features\u3002\ndegree\uff1aint\uff0c\u53ef\u9009\uff08\u9ed8\u8ba4= 3\uff09\n    \u591a\u9879\u5f0f\u6838\u51fd\u6570\u7684\u7a0b\u5ea6\uff08'poly'\uff09\u3002\u88ab\u6240\u6709\u5176\u4ed6\u5185\u6838\u5ffd\u7565\u3002\n'''\nsvr_rbf = SVR(kernel='rbf', C=1e3, gamma=0.1)\nsvr_lin = SVR(kernel='linear', C=1e3)\nsvr_poly = SVR(kernel='poly', C=1e3, degree=2)\ny_rbf = svr_rbf.fit(X, y).predict(X)\ny_lin = svr_lin.fit(X, y).predict(X)\ny_poly = svr_poly.fit(X, y).predict(X)\n\n# #############################################################################\n# Look at the results\nlw = 2\nplt.scatter(X, y, color='darkorange', label='data')\nplt.plot(X, y_rbf, color='navy', lw=lw, label='RBF model')\nplt.plot(X, y_lin, color='c', lw=lw, label='Linear model')\nplt.plot(X, y_poly, color='cornflowerblue', lw=lw, label='Polynomial model')\nplt.xlabel('data')\nplt.ylabel('target')\nplt.title('Support Vector Regression')\nplt.legend()\nplt.show()"
      ]
    }
  ],
  "metadata": {
    "kernelspec": {
      "display_name": "Python 3",
      "language": "python",
      "name": "python3"
    },
    "language_info": {
      "codemirror_mode": {
        "name": "ipython",
        "version": 3
      },
      "file_extension": ".py",
      "mimetype": "text/x-python",
      "name": "python",
      "nbconvert_exporter": "python",
      "pygments_lexer": "ipython3",
      "version": "3.6.3"
    }
  },
  "nbformat": 4,
  "nbformat_minor": 0
}