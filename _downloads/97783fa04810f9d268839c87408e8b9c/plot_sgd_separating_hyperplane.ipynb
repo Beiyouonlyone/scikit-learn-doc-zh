{
  "cells": [
    {
      "cell_type": "code",
      "execution_count": null,
      "metadata": {
        "collapsed": false
      },
      "outputs": [],
      "source": [
        "%matplotlib inline"
      ]
    },
    {
      "cell_type": "markdown",
      "metadata": {},
      "source": [
        "\n=========================================\nSGD: \u6700\u5927\u95f4\u9694\u7684\u5206\u79bb\u8d85\u5e73\u9762\n=========================================\n\n\n\u4f7f\u7528\u5229\u7528 SGD \u8bad\u7ec3\u7684\u7ebf\u6027\u652f\u6301\u5411\u91cf\u673a\u5206\u7c7b\u5668\uff0c\u7ed8\u5236\u5728\u4e24\u7c7b\u53ef\u5206\u79bb\u6570\u636e\u96c6\u4e2d\u5206\u79bb\u8d85\u5e73\u9762\u7684\u6700\u5927\u4f59\u91cf\u3002\n\n"
      ]
    },
    {
      "cell_type": "code",
      "execution_count": null,
      "metadata": {
        "collapsed": false
      },
      "outputs": [],
      "source": [
        "print(__doc__)\n\n# \u5bfc\u5165 numpy, matplotlib, linear_model \u7b49\u9700\u8981\u7528\u5230\u7684\u6a21\u5757\nimport numpy as np\nimport matplotlib.pyplot as plt\nfrom sklearn.linear_model import SGDClassifier\nfrom sklearn.datasets.samples_generator import make_blobs\n\n# \u6211\u4eec\u9996\u5148\u521b\u5efa 50 \u4e2a\u53ef\u5206\u79bb\u7684\u70b9\n# sklearn.datasets.make_blobs(n_samples=100, n_features=2,centers=3, cluster_std=1.0, center_box=(-10.0, 10.0), shuffle=True, random_state=None)[source] \u7528\u6cd5\u5982\u4e0b:\n# \u4f5c\u7528\uff1a\u4f1a\u6839\u636e\u7528\u6237\u6307\u5b9a\u7684\u7279\u5f81\u6570\u91cf\u3001\u4e2d\u5fc3\u70b9\u6570\u91cf\u3001\u8303\u56f4\u7b49\u6765\u751f\u6210\u51e0\u7c7b\u6570\u636e\uff0c\u8fd9\u4e9b\u6570\u636e\u53ef\u7528\u4e8e\u6d4b\u8bd5\u805a\u7c7b\u7b97\u6cd5\u7684\u6548\u679c\u3002\u5177\u4f53\u53c2\u89c1\uff1ahttp://blog.csdn.net/kevinelstri/article/details/52622960\n# \u53c2\u6570\u542b\u4e49\uff1a\n# n_samples --- \u5f85\u751f\u6210\u7684\u6837\u672c\u7684\u603b\u6570\n# n_features --- \u6bcf\u4e2a\u6837\u672c\u7684\u7279\u5f81\u6570\n# centers --- \u7c7b\u522b\u6570\n# cluster_std --- \u6bcf\u4e2a\u7c7b\u522b\u7684\u65b9\u5dee\uff0c\u4f8b\u5982\u6211\u4eec\u5e0c\u671b\u751f\u62102\u7c7b\u6570\u636e\uff0c\u5176\u4e2d\u4e00\u7c7b\u6bd4\u53e6\u4e00\u7c7b\u5177\u6709\u66f4\u5927\u7684\u65b9\u5dee\uff0c\u6211\u4eec\u53ef\u4ee5\u5c06 cluster_std \u8bbe\u7f6e\u4e3a [1.0, 3.0]\nX, Y = make_blobs(n_samples=50, centers=2, random_state=0, cluster_std=0.60)\n\n# \u62df\u5408\u6a21\u578b\n# SGDClassifier() \u968f\u673a\u68af\u5ea6\u4e0b\u964d\u7684 logistic \u56de\u5f52\n# \u5177\u4f53\u7684\u53c2\u89c1\uff1ahttp://scikit-learn.org/stable/modules/generated/sklearn.linear_model.SGDClassifier.html\n# \u53c2\u6570\uff1a loss --- \u635f\u5931\u51fd\u6570, alpha --- \u5c06\u6b63\u5219\u5316\u9879\u6269\u5927\u7684\u5e38\u6570, \u9ed8\u8ba4\u4e3a 0.0001\uff0c\u5f53\u8bbe\u7f6e\u4e3a'optimal', \u4e5f\u53ef\u4ee5\u7528\u4e8e\u8ba1\u7b97 learning_rate, max_iter --- \u8bad\u7ec3\u6570\u636e\u7684\u6700\u5927\u8fed\u4ee3\u6b21\u6570\n# \u6ce8\u610f\uff1a SGDClassifier() \u5176\u4e2d\u7684\u53c2\u6570 max_iter\uff0c\u8fd9\u4e2a\u53c2\u6570\u662f\u6700\u65b0\u7684\uff0c\u4e4b\u524d\u7684\u53c2\u6570\u662f n_iter\uff0c\u8bf7\u5927\u5bb6\u770b\u597d\u4e86sklearn \u7684\u7248\u672c\u518d\u4f7f\u7528\nclf = SGDClassifier(loss=\"hinge\", alpha=0.01, n_iter=200, fit_intercept=True)\nclf.fit(X, Y)\n\n# \u7ed8\u5236\u7ebf\uff0c\u70b9\u548c\u8ddd\u79bb\u5e73\u9762\u6700\u8fd1\u7684\u5411\u91cf\n# numpy.linspace(start, stop, num=50, endpoint=True, retstep=False, dtype=None) \u5728\u6307\u5b9a\u7684\u95f4\u9694\u5185\u8fd4\u56de\u5747\u5300\u95f4\u9694\u7684\u6570\u5b57\n# \u5177\u4f53\u53c2\u89c1\uff1ahttp://blog.csdn.net/you_are_my_dream/article/details/53493752\nxx = np.linspace(-1, 5, 10)\nyy = np.linspace(-1, 5, 10)\n\n# np.meshgrid() \u53c2\u89c1\uff1ahttp://blog.csdn.net/grey_csdn/article/details/69663432\nX1, X2 = np.meshgrid(xx, yy)\n# numpy.empty(shape, dtype=float, order='C') \u8fd4\u56de\u7ed9\u5b9a\u5f62\u72b6\u548c\u7c7b\u578b\u7684\u6570\u7ec4\uff0c\u800c\u4e0d\u521d\u59cb\u5316\u5176\u4e2d\u7684\u6761\u76ee\u3002\n# \u8be6\u60c5\u8bf7\u53c2\u9605\uff1ahttps://docs.scipy.org/doc/numpy-1.10.0/reference/generated/numpy.empty.html\nZ = np.empty(X1.shape)\n# np.ndenumerate() \u591a\u7ef4\u7d22\u5f15\u8fed\u4ee3\u5668\uff0c\u8fd4\u56de\u4e00\u4e2a\u4ea7\u751f\u6570\u7ec4\u5750\u6807\u548c\u503c\u7684\u8fed\u4ee3\u5668\u3002\nfor (i, j), val in np.ndenumerate(X1):\n    x1 = val\n    x2 = X2[i, j]\n    # clf.decision_function() \u8ba1\u7b97\u652f\u6301\u5411\u91cf\u5230\u5206\u5272\u8d85\u5e73\u9762\u7684\u51fd\u6570\u8ddd\u79bb\n    p = clf.decision_function([[x1, x2]])\n    Z[i, j] = p[0]\nlevels = [-1.0, 0.0, 1.0]\n# \u753b\u7ebf\u7684\u79cd\u7c7b\nlinestyles = ['dashed', 'solid', 'dashed']\ncolors = 'k'\nplt.contour(X1, X2, Z, levels, colors=colors, linestyles=linestyles)\nplt.scatter(X[:, 0], X[:, 1], c=Y, cmap=plt.cm.Paired,\n            edgecolor='black', s=20)\n\nplt.axis('tight')\nplt.show()"
      ]
    }
  ],
  "metadata": {
    "kernelspec": {
      "display_name": "Python 3",
      "language": "python",
      "name": "python3"
    },
    "language_info": {
      "codemirror_mode": {
        "name": "ipython",
        "version": 3
      },
      "file_extension": ".py",
      "mimetype": "text/x-python",
      "name": "python",
      "nbconvert_exporter": "python",
      "pygments_lexer": "ipython3",
      "version": "3.6.3"
    }
  },
  "nbformat": 4,
  "nbformat_minor": 0
}