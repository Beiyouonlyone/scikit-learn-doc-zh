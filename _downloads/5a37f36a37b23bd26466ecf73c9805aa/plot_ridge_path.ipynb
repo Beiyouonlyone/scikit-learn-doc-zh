{
  "cells": [
    {
      "cell_type": "code",
      "execution_count": null,
      "metadata": {
        "collapsed": false
      },
      "outputs": [],
      "source": [
        "%matplotlib inline"
      ]
    },
    {
      "cell_type": "markdown",
      "metadata": {},
      "source": [
        "\n# \u7ed8\u5236\u51f8\u5ea6\u7cfb\u6570\u4f5c\u4e3a\u6b63\u5219\u5316\u51fd\u6570\n\n\n\u663e\u793a\u5171\u7ebf\u6027\u5bf9\u4f30\u8ba1\u5668\u7cfb\u6570\u7684\u5f71\u54cd\u3002\n\n.. currentmodule:: sklearn.linear_model\n\n:class:`Ridge` \u56de\u5f52\u662f\u672c\u4f8b\u4e2d\u4f7f\u7528\u7684\u4f30\u8ba1\u91cf\u3002\n\u6bcf\u4e2a\u989c\u8272\u4ee3\u8868\u7cfb\u6570\u5411\u91cf\u7684\u4e0d\u540c\u7279\u5f81\uff0c\u5e76\u4e14\u8fd9\u88ab\u663e\u793a\u4e3a\u6b63\u5219\u5316\u53c2\u6570\u7684\u51fd\u6570\u3002\n\n\u672c\u4f8b\u8fd8\u663e\u793a\u4e86\u5c06 Ridge \u56de\u5f52\u5e94\u7528\u4e8e\u9ad8\u5ea6\u75c5\u6001\u77e9\u9635\u7684\u6709\u7528\u6027\u3002\n\u5bf9\u4e8e\u8fd9\u79cd\u77e9\u9635\uff0c\u76ee\u6807\u53d8\u91cf\u7684\u8f7b\u5fae\u53d8\u5316\u53ef\u80fd\u5bfc\u81f4\u8ba1\u7b97\u6743\u91cd\u7684\u5de8\u5927\u5dee\u5f02\u3002\n\u5728\u8fd9\u79cd\u60c5\u51b5\u4e0b\uff0c\u8bbe\u7f6e\u4e00\u5b9a\u7684\u6b63\u5219\u5316\uff08alpha\uff09\u4ee5\u51cf\u5c11\u8fd9\u79cd\u53d8\u5316\uff08\u566a\u58f0\uff09\u662f\u6709\u7528\u7684\u3002\n\n\u5f53 \u03b1 \u975e\u5e38\u5927\u65f6\uff0c\u6b63\u5219\u5316\u6548\u5e94\u652f\u914d\u5e73\u65b9\u4e22\u5931\u51fd\u6570\uff0c\u7cfb\u6570\u8d8b\u4e8e\u96f6\u3002\n\u5728\u8def\u5f84\u7684\u6700\u540e\uff0c\u7531\u4e8e \u03b1 \u8d8b\u4e8e\u96f6\uff0c\u89e3\u51b3\u65b9\u6848\u8d8b\u5411\u4e8e\u666e\u901a\u7684\u6700\u5c0f\u4e8c\u4e58\u6cd5\uff0c\u6240\u4ee5\u7cfb\u6570\u5448\u73b0\u5927\u7684\u632f\u8361\u3002\n\u5728\u5b9e\u8df5\u4e2d\uff0c\u6709\u5fc5\u8981\u8c03\u6574 alpha\uff0c\u4ee5\u4fdd\u6301\u4e24\u8005\u4e4b\u95f4\u7684\u5e73\u8861\u3002\n\n"
      ]
    },
    {
      "cell_type": "code",
      "execution_count": null,
      "metadata": {
        "collapsed": false
      },
      "outputs": [],
      "source": [
        "# Author: Fabian Pedregosa -- <fabian.pedregosa@inria.fr>\n# License: BSD 3 clause\n\nprint(__doc__)\n\nimport numpy as np\nimport matplotlib.pyplot as plt\nfrom sklearn import linear_model\n\n# X is the 10x10 Hilbert matrix\nX = 1. / (np.arange(1, 11) + np.arange(0, 10)[:, np.newaxis])\ny = np.ones(10)\n\n# #############################################################################\n# Compute paths\n\nn_alphas = 200\nalphas = np.logspace(-10, -2, n_alphas)\n\ncoefs = []\nfor a in alphas:\n    ridge = linear_model.Ridge(alpha=a, fit_intercept=False)\n    ridge.fit(X, y)\n    coefs.append(ridge.coef_)\n\n# #############################################################################\n# Display results\n\nax = plt.gca()\n\nax.plot(alphas, coefs)\nax.set_xscale('log')\nax.set_xlim(ax.get_xlim()[::-1])  # reverse axis\nplt.xlabel('alpha')\nplt.ylabel('weights')\nplt.title('Ridge coefficients as a function of the regularization')\nplt.axis('tight')\nplt.show()"
      ]
    }
  ],
  "metadata": {
    "kernelspec": {
      "display_name": "Python 3",
      "language": "python",
      "name": "python3"
    },
    "language_info": {
      "codemirror_mode": {
        "name": "ipython",
        "version": 3
      },
      "file_extension": ".py",
      "mimetype": "text/x-python",
      "name": "python",
      "nbconvert_exporter": "python",
      "pygments_lexer": "ipython3",
      "version": "3.6.3"
    }
  },
  "nbformat": 4,
  "nbformat_minor": 0
}