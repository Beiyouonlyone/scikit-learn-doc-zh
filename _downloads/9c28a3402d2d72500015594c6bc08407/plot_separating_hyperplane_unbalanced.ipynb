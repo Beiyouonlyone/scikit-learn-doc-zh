{
  "cells": [
    {
      "cell_type": "code",
      "execution_count": null,
      "metadata": {
        "collapsed": false
      },
      "outputs": [],
      "source": [
        "%matplotlib inline"
      ]
    },
    {
      "cell_type": "markdown",
      "metadata": {},
      "source": [
        "\n=================================================\nSVM: \u5206\u79bb\u4e0d\u5e73\u8861\u7c7b\u7684\u8d85\u5e73\u9762\n=================================================\n\n\u4f7f\u7528\u4e0d\u5e73\u8861\u7c7b\u7684 SVC \u627e\u5230\u6700\u4f18\u5206\u79bb\u8d85\u5e73\u9762\u3002\n\n\u6211\u4eec\u9996\u5148\u627e\u5230\u5177\u6709\u5e73\u6ed1 SVC \u7684\u5206\u79bb\u5e73\u9762\uff0c\u7136\u540e\u7ed8\u5236\uff08\u865a\u7ebf\uff09\u5206\u79bb\u8d85\u5e73\u9762\uff0c\u5e76\u5bf9\u4e0d\u5e73\u8861\u7c7b\u8fdb\u884c\u81ea\u52a8\u6821\u6b63\u3002\n\n.. currentmodule:: sklearn.linear_model\n\n<div class=\"alert alert-info\"><h4>Note</h4><p>\u8fd9\u4e2a\u4f8b\u5b50\u4e5f\u53ef\u4ee5\u4f7f\u7528 ``SGDClassifier(loss=\"hinge\")`` \u66ff\u6362 ``SVC(kernel=\"linear\")`` \u3002\u8bbe\u7f6e :class:`SGDClassifier` \u7684 ``loss`` \u53c2\u6570\u7b49\u4e8e ``hinge`` \u5c06\u4ea7\u751f\u4e00\u4e2a\u5177\u6709\u7ebf\u6027\u5185\u6838\u7684 SVC \u7684 behavior .\n\n    \u4f8b\u5982\u4f7f\u7528\u7684\u4e0d\u662f ``SVC``::\n\n        clf = SGDClassifier(n_iter=100, alpha=0.01)</p></div>\n\n\n"
      ]
    },
    {
      "cell_type": "code",
      "execution_count": null,
      "metadata": {
        "collapsed": false
      },
      "outputs": [],
      "source": [
        "print(__doc__)\n\n# \u5bfc\u5165 numpy, matplotlib, sklearn \u7b49\u6a21\u5757\nimport numpy as np\nimport matplotlib.pyplot as plt\nfrom sklearn import svm\n\n# \u6211\u4eec\u521b\u5efa\u4e86 40 \u4e2a\u5206\u79bb\u7684\u70b9\nrng = np.random.RandomState(0)\nn_samples_1 = 1000\nn_samples_2 = 100\n# np.r_ \u6309 row \u6765\u7ec4\u5408 array, \u5982 a = np.array([1,2,3]) b = np.array([4,5,6]) np.r_[a,b] \u5f97\u5230\u7684\u7ed3\u679c\u662f array([1,2,3,4,5,6])\n# \u6269\u5c55 np.c_ \u662f\u6309\u7167 column \u6765\u7ec4\u5408 array \u7684\uff0c\u5982 np.c_[a,b] \u5f97\u5230\u7684\u7ed3\u679c\u662f array([[1, 4], [2, 5], [3, 6]])\nX = np.r_[1.5 * rng.randn(n_samples_1, 2),\n          0.5 * rng.randn(n_samples_2, 2) + [2, 2]]\ny = [0] * (n_samples_1) + [1] * (n_samples_2)\n\n# \u62df\u5408\u6a21\u578b\u5e76\u83b7\u53d6\u5206\u7c7b\u8d85\u5e73\u9762\nclf = svm.SVC(kernel='linear', C=1.0)\nclf.fit(X, y)\n\n# \u62df\u5408\u6a21\u578b\u5e76\u4f7f\u7528\u52a0\u6743\u7c7b\u6765\u5f97\u5230\u5206\u7c7b\u8d85\u5e73\u9762\nwclf = svm.SVC(kernel='linear', class_weight={1: 10})\nwclf.fit(X, y)\n\n# \u7ed8\u5236\u5206\u7c7b\u8d85\u5e73\u9762\u548c\u6837\u672c\n# \u5728\u8fd9\u91cc\u505a\u4e86\u4e00\u4e0b\u5c0f\u4fee\u6539\uff0c\u6dfb\u52a0\u4e86\u4e00\u4e2a\u53c2\u6570 label=\" \" \u5426\u5219\u8fd0\u884c\u7684\u65f6\u5019\u4f1a\u62a5\u9519\uff1aUserWarning: No labelled objects found. Use label='...' kwarg on individual plots. warnings.warn(\"No labelled objects found. \"\nplt.scatter(X[:, 0], X[:, 1], c=y, cmap=plt.cm.Paired, edgecolors='k', label=\" \")\nplt.legend()\n\n# \u7ed8\u5236\u4e24\u4e2a\u5206\u7c7b\u5668\u7684\u51b3\u7b56\u51fd\u6570\nax = plt.gca()\nxlim = ax.get_xlim()\nylim = ax.get_ylim()\n\n# \u521b\u5efa\u7f51\u683c\u6765\u8bc4\u4f30\u6a21\u578b\n# np.linspace(start, stop, num=50, endpoint=True, retstep=False, dtype=None) \u5728\u6307\u5b9a\u7684\u95f4\u9694\u5185\u8fd4\u56de\u5747\u5300\u95f4\u9694\u7684\u6570\u5b57. \n# start --- \u5e8f\u5217\u7684\u8d77\u59cb\u70b9, stop --- \u5e8f\u5217\u7684\u7ec8\u70b9, num --- \u751f\u6210\u7684\u6837\u672c\u6570, endpoint --- \u5982\u679c\u4e3atrue\uff0c\u5219\u4e00\u5b9a\u5305\u62ec stop,\u4e3a flase, \u5219\u4e00\u5b9a\u4e0d\u5305\u62ec stop\n# \u8be6\u60c5\u53c2\u89c1\uff1a https://docs.scipy.org/doc/numpy/reference/generated/numpy.linspace.html\nxx = np.linspace(xlim[0], xlim[1], 30)\nyy = np.linspace(ylim[0], ylim[1], 30)\n# meshgrid() \u51fd\u6570\u7528\u4e24\u4e2a\u5750\u6807\u8f74\u4e0a\u7684\u70b9\u5728\u5e73\u9762\u4e0a\u753b\u683c\u3002\u5177\u4f53\u53c2\u9605\uff1ahttps://docs.scipy.org/doc/numpy/reference/generated/numpy.meshgrid.html\nYY, XX = np.meshgrid(yy, xx)\n# np.vstack() \u5728\u5782\u76f4\u65b9\u5411\u4e0a\u5408\u5e76\u6570\u7ec4\n# numpy.ravel() \u4e0e numpy.flatten() \u529f\u80fd\u4e00\u81f4\uff0c\u5c06\u591a\u7ef4\u6570\u7ec4\u964d\u4e3a\u4e00\u7ef4, \u4e0d\u540c\u7684\u5730\u65b9\u5728\u4e8e flatten() \u8fd4\u56de\u4e00\u4efd\u62f7\u8d1d\uff0c\u5bf9\u62f7\u8d1d\u505a\u4fee\u6539\u4e0d\u4f1a\u5f71\u54cd\u539f\u59cb\u77e9\u9635\uff0c\u800c ravel() \u8fd4\u56de\u89c6\u56fe\uff0c\u5bf9\u89c6\u56fe\u505a\u4fee\u6539\u4f1a\u5f71\u54cd\u539f\u59cb\u77e9\u9635\n# \u8be6\u60c5\u53c2\u89c1\uff1a https://docs.scipy.org/doc/numpy/reference/generated/numpy.ravel.html\nxy = np.vstack([XX.ravel(), YY.ravel()]).T\n\n# \u83b7\u5f97\u5206\u79bb\u8d85\u5e73\u9762\n# clf.decision_function() \u8ba1\u7b97\u6837\u672c\u70b9\u5230\u5206\u5272\u8d85\u5e73\u9762\u7684\u51fd\u6570\u8ddd\u79bb\n# reshape() \u521b\u5efa\u4e00\u4e2a\u6539\u53d8\u4e86\u5c3a\u5bf8\u7684\u65b0\u6570\u7ec4\uff0c\u539f\u6570\u7ec4\u7684shape\u4fdd\u6301\u4e0d\u53d8, \u53c2\u8003\uff1ahttps://docs.scipy.org/doc/numpy/reference/generated/numpy.reshape.html \nZ = clf.decision_function(xy).reshape(XX.shape)\n\n# \u7ed8\u5236\u51b3\u7b56\u8fb9\u754c\u548c\u95f4\u8ddd\n# contour() \u7528\u6765\u7ed8\u5236\u77e9\u9635\u6570\u636e\u7684\u7b49\u9ad8\u7ebf\uff0c\u8be6\u60c5\u53c2\u89c1\uff1ahttp://blog.csdn.net/kai165416/article/details/73743201\na = ax.contour(XX, YY, Z, colors='k', levels=[0], alpha=0.5, linestyles=['-'])\n\n# \u5f97\u5230\u52a0\u6743\u7c7b\u7684\u5206\u79bb\u8d85\u5e73\u9762\nZ = wclf.decision_function(xy).reshape(XX.shape)\n\n# \u7ed8\u5236\u52a0\u6743\u7c7b\u7684\u51b3\u7b56\u8fb9\u754c\u548c\u8fb9\u8ddd\nb = ax.contour(XX, YY, Z, colors='r', levels=[0], alpha=0.5, linestyles=['-'])\n\n# plt.legend() \u7528\u6765\u663e\u793a\u56fe\u4f8b\uff0c\u8be6\u60c5\u8bf7\u770b\uff1ahttp://blog.csdn.net/you_are_my_dream/article/details/53440964\nplt.legend([a.collections[0], b.collections[0]], [\"non weighted\", \"weighted\"],\n           loc=\"upper right\")\n\n# \u6dfb\u52a0\u8fd9\u4e2a\u8bed\u53e5\uff0c\u5c06\u4e0a\u9762\u6211\u4eec\u753b\u51fa\u6765\u7684\u56fe\u663e\u793a\u51fa\u6765\nplt.show()"
      ]
    }
  ],
  "metadata": {
    "kernelspec": {
      "display_name": "Python 3",
      "language": "python",
      "name": "python3"
    },
    "language_info": {
      "codemirror_mode": {
        "name": "ipython",
        "version": 3
      },
      "file_extension": ".py",
      "mimetype": "text/x-python",
      "name": "python",
      "nbconvert_exporter": "python",
      "pygments_lexer": "ipython3",
      "version": "3.6.3"
    }
  },
  "nbformat": 4,
  "nbformat_minor": 0
}