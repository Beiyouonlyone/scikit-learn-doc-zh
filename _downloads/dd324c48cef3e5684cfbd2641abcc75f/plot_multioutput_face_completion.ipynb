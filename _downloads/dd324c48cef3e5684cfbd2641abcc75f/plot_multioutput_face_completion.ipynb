{
  "cells": [
    {
      "cell_type": "code",
      "execution_count": null,
      "metadata": {
        "collapsed": false
      },
      "outputs": [],
      "source": [
        "%matplotlib inline"
      ]
    },
    {
      "cell_type": "markdown",
      "metadata": {},
      "source": [
        "\n# \u7528\u591a\u8f93\u51fa\u4f30\u7b97\u5668\u8fdb\u884c\u9762\u90e8\u4fee\u590d\n\n\n\u6b64\u793a\u4f8b\u663e\u793a\u4e86\u4f7f\u7528\u591a\u8f93\u51fa\u4f30\u8ba1\u5668\u6765\u4fee\u8865\u56fe\u50cf\u3002\n\u76ee\u6807\u662f\u9884\u6d4b\u7ed9\u51fa\u4e0a\u534a\u90e8\u5206\u7684\u9762\u90e8\u7684\u4e0b\u534a\u90e8\u5206\u3002\n\n\u7b2c\u4e00\u5217\u56fe\u50cf\u663e\u793a\u771f\u5b9e\u7684\u9762\u5b54\u3002\u63a5\u4e0b\u6765\u7684\u4e00\u5217\u663e\u793a\u4e86 extremely randomized trees, k nearest neighbors, linear regression \u548c ridge regression \u5982\u4f55\u5b8c\u6210\u4fee\u590d\u8fd9\u4e9b\u9762\u5b54\u7684\u4e0b\u534a\u90e8\u5206\u3002\n\n\n"
      ]
    },
    {
      "cell_type": "code",
      "execution_count": null,
      "metadata": {
        "collapsed": false
      },
      "outputs": [],
      "source": [
        "print(__doc__)\n\n# \u5bfc\u5165\u4e00\u4e9b\u5fc5\u8981\u7684\u6a21\u5757\nimport numpy as np\nimport matplotlib.pyplot as plt\n\nfrom sklearn.datasets import fetch_olivetti_faces\nfrom sklearn.utils.validation import check_random_state\n\nfrom sklearn.ensemble import ExtraTreesRegressor\nfrom sklearn.neighbors import KNeighborsRegressor\nfrom sklearn.linear_model import LinearRegression\nfrom sklearn.linear_model import RidgeCV\n\n# \u52a0\u8f7d\u9762\u90e8\u6570\u636e\u7684\u6570\u636e\u96c6\ndata = fetch_olivetti_faces()\ntargets = data.target\n\ndata = data.images.reshape((len(data.images), -1))\ntrain = data[targets < 30]\ntest = data[targets >= 30]  # \u72ec\u7acb\u7684\u4efb\u52a1\u7684\u6d4b\u8bd5\n\n# \u6d4b\u8bd5\u4e00\u5c0f\u90e8\u5206\u4eba\nn_faces = 5\nrng = check_random_state(4)\nface_ids = rng.randint(test.shape[0], size=(n_faces, ))\ntest = test[face_ids, :]\n\nn_pixels = data.shape[1]\n# \u9762\u90e8\u7684\u4e0a\u534a\u90e8\u5206\nX_train = train[:, :(n_pixels + 1) // 2]\n# \u9762\u90e8\u7684\u4e0b\u534a\u90e8\u5206\ny_train = train[:, n_pixels // 2:]\nX_test = test[:, :(n_pixels + 1) // 2]\ny_test = test[:, n_pixels // 2:]\n\n# \u62df\u5408\u8fd9\u4e9b\u6a21\u578b\nESTIMATORS = {\n    \"Extra trees\": ExtraTreesRegressor(n_estimators=10, max_features=32,\n                                       random_state=0),\n    \"K-nn\": KNeighborsRegressor(),\n    \"Linear regression\": LinearRegression(),\n    \"Ridge\": RidgeCV(),\n}\n\ny_test_predict = dict()\nfor name, estimator in ESTIMATORS.items():\n    estimator.fit(X_train, y_train)\n    y_test_predict[name] = estimator.predict(X_test)\n\n# \u6253\u5370\u51fa\u5df2\u7ecf\u4fee\u590d\u5b8c\u6210\u7684\u9762\u90e8\u56fe\u7247\nimage_shape = (64, 64)\n\nn_cols = 1 + len(ESTIMATORS)\nplt.figure(figsize=(2. * n_cols, 2.26 * n_faces))\nplt.suptitle(\"Face completion with multi-output estimators\", size=16)\n\nfor i in range(n_faces):\n    true_face = np.hstack((X_test[i], y_test[i]))\n\n    if i:\n        sub = plt.subplot(n_faces, n_cols, i * n_cols + 1)\n    else:\n        sub = plt.subplot(n_faces, n_cols, i * n_cols + 1,\n                          title=\"true faces\")\n\n    sub.axis(\"off\")\n    sub.imshow(true_face.reshape(image_shape),\n               cmap=plt.cm.gray,\n               interpolation=\"nearest\")\n\n    for j, est in enumerate(sorted(ESTIMATORS)):\n        completed_face = np.hstack((X_test[i], y_test_predict[est][i]))\n\n        if i:\n            sub = plt.subplot(n_faces, n_cols, i * n_cols + 2 + j)\n\n        else:\n            sub = plt.subplot(n_faces, n_cols, i * n_cols + 2 + j,\n                              title=est)\n\n        sub.axis(\"off\")\n        sub.imshow(completed_face.reshape(image_shape),\n                   cmap=plt.cm.gray,\n                   interpolation=\"nearest\")\n\nplt.show()"
      ]
    }
  ],
  "metadata": {
    "kernelspec": {
      "display_name": "Python 3",
      "language": "python",
      "name": "python3"
    },
    "language_info": {
      "codemirror_mode": {
        "name": "ipython",
        "version": 3
      },
      "file_extension": ".py",
      "mimetype": "text/x-python",
      "name": "python",
      "nbconvert_exporter": "python",
      "pygments_lexer": "ipython3",
      "version": "3.6.3"
    }
  },
  "nbformat": 4,
  "nbformat_minor": 0
}