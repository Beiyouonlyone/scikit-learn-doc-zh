{
  "cells": [
    {
      "cell_type": "code",
      "execution_count": null,
      "metadata": {
        "collapsed": false
      },
      "outputs": [],
      "source": [
        "%matplotlib inline"
      ]
    },
    {
      "cell_type": "markdown",
      "metadata": {},
      "source": [
        "\n# k-means \u5047\u8bbe\u7684\u793a\u8303\n\n\n\u8fd9\u4e2a\u793a\u4f8b\u662f\u4e3a\u4e86\u8bf4\u660e\u8fd9\u79cd\u60c5\u51b5\uff0c\u5176\u4e2d k-means \u4f1a\u4ea7\u751f\u4e0d\u76f4\u89c2\u548c\u53ef\u80fd\u7684\u610f\u60f3\u4e0d\u5230\u7684\u7c07\u3002\u5728\u524d 3 \u5e45\u56fe\u4e2d\uff0c\u8f93\u5165\u6570\u636e\u4e0d\u7b26\u5408 k-means \u4ea7\u751f\u7684\u4e00\u4e9b\u9690\u542b\u5047\u8bbe\uff0c\u56e0\u6b64\u4ea7\u751f\u4e86\u4e0d\u5408\u9700\u8981\u7684\u7c07\u3002\u5728\u6700\u540e\u7684\u4e00\u5f20\u56fe\u4e2d\uff0c k-means \u8fd4\u56de\u76f4\u89c2\u7684\u7c07\uff0c\u5c3d\u7ba1\u5b83\u7684\u5927\u5c0f\u5e76\u4e0d\u5747\u5300\u3002\n\n"
      ]
    },
    {
      "cell_type": "code",
      "execution_count": null,
      "metadata": {
        "collapsed": false
      },
      "outputs": [],
      "source": [
        "print(__doc__)\n\n# Author: Phil Roth <mr.phil.roth@gmail.com> & Joy yx <chinachenyyx@gmail.com>\n# License: BSD 3 clause\n\n# \u5f15\u5165 numpy \u548c matplotlib\nimport numpy as np\nimport matplotlib.pyplot as plt\n\n# \u5f15\u5165 sklearn \u7684\u805a\u7c7b\u76f8\u5173\u5305 KMeans\nfrom sklearn.cluster import KMeans\nfrom sklearn.datasets import make_blobs\n\nplt.figure(figsize=(12, 12))\n\n# make_blobs() \u4ea7\u751f\u591a\u7c7b\u6570\u636e\u96c6\uff0c\u5bf9\u6bcf\u4e2a\u7c7b\u7684\u4e2d\u5fc3\u548c\u6807\u51c6\u5dee\u6709\u5f88\u597d\u7684\u63a7\u5236\u3002\u5177\u4f53\u7684\u8bf7\u53c2\u89c1\uff1ahttp://blog.csdn.net/sa14023053/article/details/52086695\n# n_samples -- int\u7c7b\u578b\uff0c\u662f\u53ef\u9009\u53c2\u6570\uff0c\u9ed8\u8ba4\u503c\u662f100\uff0c\u8868\u793a -- \u603b\u7684\u70b9\u6570\uff0c\u5e73\u5747\u5206\u5230\u6bcf\u4e2a cluster \u4e2d\u3002\u5b9e\u9645\u4e0a\u5c31\u662f\u6837\u672c\u7684\u4e2a\u6570\u3002\n# random_state -- RandomState\u5bf9\u8c61\u6216 None\uff0c\u662f\u53ef\u9009\u53c2\u6570\uff0c\u9ed8\u8ba4\u503c\u4e3a None\uff0c\u8868\u793a -- \u5982\u679c\u662f int, random_state\u4f5c\u4e3a\u968f\u673a\u6570\u4ea7\u751f\u5668\u7684seed;\u5982\u679c\u662f RandomState\u5bf9\u8c61\uff0crandom_state \u662f\u968f\u673a\u6570\u4ea7\u751f\u5668; \u5982\u679c\u662f None\uff0cRandomState\u5bf9\u8c61\u662f\u968f\u673a\u6570\u4ea7\u751f\u5668\u901a\u8fc7np.random\u6765\u4f7f\u7528\n# n_features \u8fd9\u4e2a\u53c2\u6570\u8fd9\u91cc\u4e5f\u6ca1\u7528\u5230\uff0c\u4f46\u662f\u8fd8\u8981\u8bf4\u4e00\u4e0b -- int \u7c7b\u578b \u9ed8\u8ba4\u503c\u4e3a 2\uff0c\u8868\u793a -- \u6bcf\u4e2a\u6837\u672c\u7684\u7279\u5f81\u7ef4\u5ea6\n# centers \u8fd9\u4e2a\u8fd9\u91cc\u867d\u7136\u6ca1\u7528\u5230\uff0c\u4f46\u662f\u8fd8\u8981\u8bf4\u4e00\u4e0b -- int\u7c7b\u578b\u6216\u8005 \u805a\u7c7b\u4e2d\u5fc3\u5750\u6807\u5143\u7ec4\u6784\u6210\u7684\u6570\u7ec4\u7c7b\u578b\uff0c\u9ed8\u8ba4\u503c\u4e3a 3\uff0c\u8868\u793a -- \u4ea7\u751f\u7684\u4e2d\u5fc3\u70b9\u7684\u6570\u91cf\uff0c\u6216\u8005\u56fa\u5b9a\u4e2d\u5fc3\u70b9\u4f4d\u7f6e\u3002\nn_samples = 1500\nrandom_state = 170\nX, y = make_blobs(n_samples=n_samples, random_state=random_state)\n\n# \u7c07\u7684\u4e2a\u6570\u4e0d\u6b63\u786e\uff08\u56e0\u4e3a\u6211\u4eec\u751f\u6210\u7684\u968f\u673a\u6570\u7684\u7c7b\u522b\u662f 3 \u4e2a\u7c7b\uff0c\u4f46\u662f\u54b1\u4eec\u8fd9\u91cc\u7684\u805a\u7c7b\u4e2a\u6570\u4e3a 2\uff09 \u8fdb\u884c\u4e00\u6b21 KMeans \u805a\u7c7b\ny_pred = KMeans(n_clusters=2, random_state=random_state).fit_predict(X)\n\n# subplot(numRows, numCols, plotNum) -- \u56fe\u8868\u7684\u6574\u4e2a\u7ed8\u56fe\u533a\u57df\u88ab\u5206\u6210 numRows \u884c\u548c numCols; plotNum \u4ee3\u8868\u7684\u662f\u6574\u4e2a\u7ed8\u56fe\u533a\u57df\u7684\u7b2c\u51e0\u4e2a\uff0c\u6309\u7167\u4ece\u5de6\u5230\u53f3\uff0c\u4ece\u4e0a\u5230\u4e0b\u7684\u987a\u5e8f\u3002\u5f53\u8fd9\u51e0\u4e2a\u53c2\u6570\u90fd\u662f\u5c0f\u4e8e9\u7684\u65f6\u5019\uff0c\u662f\u53ef\u4ee5\u8fde\u8d77\u6765\u7684\n# \u4e0b\u9762\u8fd9\u884c\u4ee3\u7801\u7684\u610f\u601d\u5c31\u662f\u8bf4\uff0c\u5c06\u6574\u4e2a\u7ed8\u56fe\u533a\u57df\u5206\u4e3a4\u7b49\u5206\uff0c\u7136\u540e\u6211\u4eec\u73b0\u5728\u5728\u7b2c\u4e00\u4e2a\u5c0f\u533a\u57df\u91cc\u753b\u56fe\nplt.subplot(221)\n# plt.scatter(x, y, s=20, c='b', marker='o', cmap=None, norm=None, vmin=None, vmax=None, alpha=None, linewidths=None, verts=None, hold=None, **kwargs)\n# x,y --- \u5f62\u5982 shape[x, y] \u7684 array, \u4ee3\u8868\u8f93\u5165\u6570\u636e\n# c ----- \u8272\u5f69\u6216\u989c\u8272\u5e8f\u5217\uff0c\u53ef\u9009\uff0c\u9ed8\u8ba4\u3002\u6ce8\u610f c \u4e0d\u5e94\u8be5\u662f\u4e00\u4e2a\u5355\u4e00\u7684 RGB \u6570\u5b57\u6216 RGBA \u5e8f\u5217\uff0c\u56e0\u4e3a\u4e0d\u4fbf\u533a\u5206\u3002c \u53ef\u4ee5\u662f\u4e00\u4e2a RGB \u6216 RGBA \u4e8c\u7ef4\u884c\u6570\u7ec4\u3002\nplt.scatter(X[:, 0], X[:, 1], c=y_pred)\n# \u7ed8\u56fe\u5c0f\u533a\u57df\u7684 title\nplt.title(\"Incorrect Number of Blobs\")\n\n# \u4e0d\u5747\u5300\u5206\u5e03\u7684\u6570\u636e\ntransformation = [[0.60834549, -0.63667341], [-0.40887718, 0.85253229]]\n# np.dot() \u5bf9\u4e8e\u4e8c\u7ef4\u77e9\u9635\uff0c\u8ba1\u7b97\u771f\u6b63\u610f\u4e49\u4e0a\u7684\u77e9\u9635\u4e58\u79ef\uff0c\u540c\u7ebf\u6027\u4ee3\u6570\u4e2d\u77e9\u9635\u4e58\u6cd5\u7684\u5b9a\u4e49\u3002\u5bf9\u4e8e\u4e00\u7ef4\u77e9\u9635\uff0c\u8ba1\u7b97\u4e24\u8005\u7684\u5185\u79ef\u3002\u8fd9\u91cc\u662f\u771f\u6b63\u610f\u4e49\u4e0a\u7684\u77e9\u9635\u4e58\u79ef\u3002\nX_aniso = np.dot(X, transformation)\n# \u8fdb\u884c\u4e0d\u5747\u5300\u5206\u5e03\u7684\u6570\u636e\u7684 KMeans \u7684\u805a\u7c7b\u5904\u7406\ny_pred = KMeans(n_clusters=3, random_state=random_state).fit_predict(X_aniso)\n\n# \u5728\u6574\u4f53\u7ed8\u56fe\u533a\u57df\u7684\u7b2c\u4e00\u884c\u7684\u7b2c\u4e8c\u4e2a\u5c0f\u533a\u57df\u91cc\u4f5c\u56fe\nplt.subplot(222)\nplt.scatter(X_aniso[:, 0], X_aniso[:, 1], c=y_pred)\nplt.title(\"Anisotropicly Distributed Blobs\")\n\n# \u4e0d\u540c\u7684\u65b9\u5dee\u805a\u7c7b\n# cluster_std --- \u805a\u7c7b\u7684\u6bcf\u4e2a\u7c7b\u522b\u7684\u65b9\u5dee\uff0c\u4f8b\u5982\u6211\u4eec\u5e0c\u671b\u751f\u6210 2 \u7c7b\u6570\u636e\uff0c\u5176\u4e2d\u4e00\u7c7b\u6bd4\u53e6\u4e00\u7c7b\u5177\u6709\u66f4\u5927\u7684\u65b9\u5dee\uff0c\u53ef\u4ee5\u5c06 cluster_std \u8bbe\u7f6e\u4e3a [1.0, 3.0]\nX_varied, y_varied = make_blobs(n_samples=n_samples,\n                                cluster_std=[1.0, 2.5, 0.5],\n                                random_state=random_state)\ny_pred = KMeans(n_clusters=3, random_state=random_state).fit_predict(X_varied)\n\n# \u5728\u6574\u4e2a\u7ed8\u56fe\u533a\u57df\u7684\u7b2c\u4e09\u4e2a\u5c0f\u7ed8\u56fe\u533a\u57df\u7ed8\u5236\u56fe\u5f62\nplt.subplot(223)\nplt.scatter(X_varied[:, 0], X_varied[:, 1], c=y_pred)\nplt.title(\"Unequal Variance\")\n\n# \u5927\u5c0f\u4e0d\u4e00\u81f4\u7684\u805a\u7c7b\n# np.vstack() \u548c np.hstack() \u662f\u6709\u5408\u5e76\u6570\u7ec4\u7684\u4f5c\u7528\u7684\uff0c\u4f46\u662f vstack() \u662f\u5728\u5782\u76f4\u65b9\u5411\u4e0a\u5408\u5e76\uff0c\u800c hstack() \u662f\u5728\u6c34\u5e73\u65b9\u5411\u4e0a\u5408\u5e76\n# \u53ef\u4ee5\u53c2\u8003\u8fd9\u91cc\uff1ahttp://blog.csdn.net/huruzun/article/details/39801217\nX_filtered = np.vstack((X[y == 0][:500], X[y == 1][:100], X[y == 2][:10]))\ny_pred = KMeans(n_clusters=3,\n                random_state=random_state).fit_predict(X_filtered)\n\n# \u5728\u6574\u4e2a\u7ed8\u56fe\u533a\u57df\u7684\u7b2c\u56db\u4e2a\u5c0f\u533a\u57df\u7ed8\u5236\u56fe\u5f62\nplt.subplot(224)\nplt.scatter(X_filtered[:, 0], X_filtered[:, 1], c=y_pred)\nplt.title(\"Unevenly Sized Blobs\")\n\nplt.show()"
      ]
    }
  ],
  "metadata": {
    "kernelspec": {
      "display_name": "Python 3",
      "language": "python",
      "name": "python3"
    },
    "language_info": {
      "codemirror_mode": {
        "name": "ipython",
        "version": 3
      },
      "file_extension": ".py",
      "mimetype": "text/x-python",
      "name": "python",
      "nbconvert_exporter": "python",
      "pygments_lexer": "ipython3",
      "version": "3.6.3"
    }
  },
  "nbformat": 4,
  "nbformat_minor": 0
}